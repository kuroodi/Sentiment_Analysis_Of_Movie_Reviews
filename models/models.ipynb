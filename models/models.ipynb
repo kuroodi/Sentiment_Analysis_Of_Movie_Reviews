{
 "cells": [
  {
   "cell_type": "markdown",
   "metadata": {},
   "source": [
    "### Basic Imports"
   ]
  },
  {
   "cell_type": "code",
   "execution_count": 1,
   "metadata": {},
   "outputs": [],
   "source": [
    "import numpy as np\n",
    "import pandas as pd\n",
    "import os\n",
    "import sys\n",
    "\n",
    "\n",
    "from sklearn.base import BaseEstimator, TransformerMixin\n",
    "from sklearn.pipeline import Pipeline, make_pipeline, FeatureUnion\n",
    "\n",
    "\n",
    "from sklearn.metrics import confusion_matrix, roc_curve, roc_auc_score\n",
    "from sklearn.metrics import accuracy_score, recall_score, precision_score\n",
    "\n",
    "\n",
    "from sklearn.feature_extraction.text import CountVectorizer\n",
    "from sklearn.model_selection import GridSearchCV\n",
    "from sklearn.linear_model import LogisticRegression\n",
    "from sklearn.ensemble import RandomForestClassifier, GradientBoostingClassifier\n",
    "\n",
    "import matplotlib.pyplot as plt\n",
    "%matplotlib inline"
   ]
  },
  {
   "cell_type": "markdown",
   "metadata": {},
   "source": [
    "### Loading Data"
   ]
  },
  {
   "cell_type": "code",
   "execution_count": 2,
   "metadata": {},
   "outputs": [],
   "source": [
    "#set relative path to data\n",
    "DATA_PATH = os.path.join(\"../data/\")\n",
    "\n",
    "#true to load in training data\n",
    "def load_movie_reviews(path=DATA_PATH, train=True):\n",
    "    if train:\n",
    "        tsv_path = os.path.join(path, \"labeledTrainData.tsv\")\n",
    "    else:\n",
    "        tsv_path = os.path.join(path, \"testData.tsv\")\n",
    "    return pd.read_csv(tsv_path, delimiter='\\t', header=0, quoting=3)"
   ]
  },
  {
   "cell_type": "code",
   "execution_count": 3,
   "metadata": {},
   "outputs": [],
   "source": [
    "#load train data\n",
    "review_train_orig = load_movie_reviews(path=DATA_PATH, train=True)\n",
    "review_train = review_train_orig.copy()\n",
    "\n",
    "#load test data\n",
    "review_test_orig = load_movie_reviews(path=DATA_PATH, train=False)\n",
    "review_test = review_test_orig.copy()"
   ]
  },
  {
   "cell_type": "code",
   "execution_count": 4,
   "metadata": {},
   "outputs": [
    {
     "name": "stdout",
     "output_type": "stream",
     "text": [
      "<class 'pandas.core.frame.DataFrame'>\n",
      "RangeIndex: 25000 entries, 0 to 24999\n",
      "Data columns (total 2 columns):\n",
      "id        25000 non-null object\n",
      "review    25000 non-null object\n",
      "dtypes: object(2)\n",
      "memory usage: 390.7+ KB\n"
     ]
    }
   ],
   "source": [
    "review_test.info()"
   ]
  },
  {
   "cell_type": "code",
   "execution_count": 5,
   "metadata": {},
   "outputs": [
    {
     "name": "stdout",
     "output_type": "stream",
     "text": [
      "<class 'pandas.core.frame.DataFrame'>\n",
      "RangeIndex: 25000 entries, 0 to 24999\n",
      "Data columns (total 3 columns):\n",
      "id           25000 non-null object\n",
      "sentiment    25000 non-null int64\n",
      "review       25000 non-null object\n",
      "dtypes: int64(1), object(2)\n",
      "memory usage: 586.0+ KB\n"
     ]
    }
   ],
   "source": [
    "review_train.info()"
   ]
  },
  {
   "cell_type": "markdown",
   "metadata": {},
   "source": [
    "***Note:*** we need to remember to add in the 'sentiment' for the test data set based on the 'id' column"
   ]
  },
  {
   "cell_type": "markdown",
   "metadata": {},
   "source": [
    "### Adding 'sentiment' To Test Data"
   ]
  },
  {
   "cell_type": "code",
   "execution_count": 6,
   "metadata": {},
   "outputs": [
    {
     "data": {
      "text/html": [
       "<div>\n",
       "<style scoped>\n",
       "    .dataframe tbody tr th:only-of-type {\n",
       "        vertical-align: middle;\n",
       "    }\n",
       "\n",
       "    .dataframe tbody tr th {\n",
       "        vertical-align: top;\n",
       "    }\n",
       "\n",
       "    .dataframe thead th {\n",
       "        text-align: right;\n",
       "    }\n",
       "</style>\n",
       "<table border=\"1\" class=\"dataframe\">\n",
       "  <thead>\n",
       "    <tr style=\"text-align: right;\">\n",
       "      <th></th>\n",
       "      <th>id</th>\n",
       "      <th>review</th>\n",
       "      <th>sentiment</th>\n",
       "    </tr>\n",
       "  </thead>\n",
       "  <tbody>\n",
       "    <tr>\n",
       "      <th>0</th>\n",
       "      <td>\"12311_10\"</td>\n",
       "      <td>\"Naturally in a film who's main themes are of ...</td>\n",
       "      <td>1</td>\n",
       "    </tr>\n",
       "    <tr>\n",
       "      <th>1</th>\n",
       "      <td>\"8348_2\"</td>\n",
       "      <td>\"This movie is a disaster within a disaster fi...</td>\n",
       "      <td>0</td>\n",
       "    </tr>\n",
       "    <tr>\n",
       "      <th>2</th>\n",
       "      <td>\"5828_4\"</td>\n",
       "      <td>\"All in all, this is a movie for kids. We saw ...</td>\n",
       "      <td>0</td>\n",
       "    </tr>\n",
       "    <tr>\n",
       "      <th>3</th>\n",
       "      <td>\"7186_2\"</td>\n",
       "      <td>\"Afraid of the Dark left me with the impressio...</td>\n",
       "      <td>0</td>\n",
       "    </tr>\n",
       "    <tr>\n",
       "      <th>4</th>\n",
       "      <td>\"12128_7\"</td>\n",
       "      <td>\"A very accurate depiction of small time mob l...</td>\n",
       "      <td>1</td>\n",
       "    </tr>\n",
       "  </tbody>\n",
       "</table>\n",
       "</div>"
      ],
      "text/plain": [
       "           id                                             review  sentiment\n",
       "0  \"12311_10\"  \"Naturally in a film who's main themes are of ...          1\n",
       "1    \"8348_2\"  \"This movie is a disaster within a disaster fi...          0\n",
       "2    \"5828_4\"  \"All in all, this is a movie for kids. We saw ...          0\n",
       "3    \"7186_2\"  \"Afraid of the Dark left me with the impressio...          0\n",
       "4   \"12128_7\"  \"A very accurate depiction of small time mob l...          1"
      ]
     },
     "execution_count": 6,
     "metadata": {},
     "output_type": "execute_result"
    }
   ],
   "source": [
    "def add_sentiment(df):\n",
    "    sentiment = [1 if int(x[1].strip('\"')) >= 5 else 0 for x in df['id'].str.split('_')]\n",
    "    df['sentiment'] = sentiment\n",
    "    return\n",
    "\n",
    "#adding sentiment column to test data\n",
    "add_sentiment(review_test)\n",
    "review_test.head()"
   ]
  },
  {
   "cell_type": "markdown",
   "metadata": {},
   "source": [
    "### Extracting Train and Test Output Columns"
   ]
  },
  {
   "cell_type": "code",
   "execution_count": 12,
   "metadata": {},
   "outputs": [],
   "source": [
    "y_train = review_train['sentiment'].values\n",
    "y_test  = review_test['sentiment'].values "
   ]
  },
  {
   "cell_type": "markdown",
   "metadata": {},
   "source": [
    "### Custom Classes"
   ]
  },
  {
   "cell_type": "code",
   "execution_count": 13,
   "metadata": {},
   "outputs": [],
   "source": [
    "class modelScorer():\n",
    "    def __init__(self, title, model, y, X):\n",
    "        \"\"\"\n",
    "        title --> string --> describe the model (used for book keeping)\n",
    "        model --> sklearn model\n",
    "        y     --> np array --> target output column from feature matrix \n",
    "        X     --> np array --> feature matrix\n",
    "        \"\"\"\n",
    "        self.title = title\n",
    "        self.model = model\n",
    "        self.y = y\n",
    "        self.X = X\n",
    "        \n",
    "        self.y_predict = self.model.predict(self.X)\n",
    "        \n",
    "        self.confusion_matrx = confusion_matrix(self.y, self.y_predict)\n",
    "        self.accuracy_scr = accuracy_score(self.y, self.y_predict)\n",
    "        self.recall_scr = recall_score(self.y, self.y_predict)\n",
    "        self.precision_scr = precision_score(self.y, self.y_predict)\n",
    "        \n",
    "    def genScoreReport(self):\n",
    "        print(\"\\t\\tSCORE FOR {}\".format(self.title))\n",
    "        print(\"Accuracy:{0:.2f}\".format(self.accuracy_scr))\n",
    "        print(\"Recall:{0:.2f}\".format(self.recall_scr))\n",
    "        print(\"Precision:{0:.2f}\".format(self.precision_scr))\n",
    "        print(\"\\nConfusion Matrix:\\n {}\".format(self.confusion_matrx))\n",
    "        \n",
    "    def plot_roc(self):\n",
    "        AUC = roc_auc_score(self.y, self.model.predict_proba(self.X)[:,1])\n",
    "        fpr, tpr, thresholds = roc_curve(self.y, self.model.predict_proba(self.X)[:,1])\n",
    "    \n",
    "        plt.figure()\n",
    "        lw = 2\n",
    "        plt.plot(fpr, tpr, color='darkorange', lw=lw, label='ROC curve (area = %0.2f)' % AUC)\n",
    "        plt.plot([0, 1], [0, 1], color='navy', lw=lw, linestyle='--')\n",
    "        plt.xlim([0.0, 1.0])\n",
    "        plt.ylim([0.0, 1.05])\n",
    "        plt.xlabel('False Positive Rate')\n",
    "        plt.ylabel('True Positive Rate')\n",
    "        plt.title('Receiver Operating Characteristic:: {}'.format(self.title))\n",
    "        plt.legend(loc=\"lower right\");\n",
    "        \n",
    "    def getAccuracyScore(self):\n",
    "        return self.accuracy_scr\n",
    "    \n",
    "    def getRecallScore(self):\n",
    "        return self.recall_scr\n",
    "    \n",
    "    def getPrecisionScore(self):\n",
    "        return self.precision_scr\n",
    "    \n",
    "    def getConfusionMatrix(self):\n",
    "        return self.confusion_matrx"
   ]
  },
  {
   "cell_type": "markdown",
   "metadata": {},
   "source": [
    "### Preprocessing Reviews"
   ]
  },
  {
   "cell_type": "code",
   "execution_count": 18,
   "metadata": {},
   "outputs": [],
   "source": [
    "def review_cleaner(reviews):\n",
    "    #remove all integers from reviews\n",
    "    reviews['review'] = reviews['review'].str.replace(pat='[0-9]+', repl='')\n",
    "    #remove all HTML tags from reviews\n",
    "    reviews['review'] = reviews['review'].str.replace(pat='<[^<]+?>', repl='')\n",
    "    temp = reviews.drop(['id', 'sentiment'], axis=1)\n",
    "    return temp.values.ravel()\n",
    "    \n",
    "X_train = review_cleaner(review_train)\n",
    "X_test = review_cleaner(review_test)"
   ]
  },
  {
   "cell_type": "code",
   "execution_count": 19,
   "metadata": {},
   "outputs": [
    {
     "data": {
      "text/plain": [
       "((25000,), (25000,))"
      ]
     },
     "execution_count": 19,
     "metadata": {},
     "output_type": "execute_result"
    }
   ],
   "source": [
    "y_train.shape, X_train.shape"
   ]
  },
  {
   "cell_type": "markdown",
   "metadata": {},
   "source": [
    "### Logistic Regression"
   ]
  },
  {
   "cell_type": "code",
   "execution_count": 30,
   "metadata": {},
   "outputs": [],
   "source": [
    "logistic_pipe = make_pipeline(CountVectorizer(), LogisticRegression())\n",
    "\n",
    "param_grid = {\n",
    "                'logisticregression__C':[0.1, 1],\n",
    "                'countvectorizer__stop_words':['english', None],\n",
    "                'countvectorizer__lowercase':[True, False],\n",
    "                'countvectorizer__max_features':[1000, 5000, 10000]\n",
    "             }\n",
    "                              \n",
    "clf = GridSearchCV(logistic_pipe, param_grid,  cv=10)\n",
    "clf.fit(X_train, y_train);"
   ]
  },
  {
   "cell_type": "code",
   "execution_count": 36,
   "metadata": {},
   "outputs": [
    {
     "data": {
      "text/plain": [
       "{'countvectorizer__lowercase': True,\n",
       " 'countvectorizer__max_features': 10000,\n",
       " 'countvectorizer__stop_words': None,\n",
       " 'logisticregression__C': 0.1}"
      ]
     },
     "execution_count": 36,
     "metadata": {},
     "output_type": "execute_result"
    }
   ],
   "source": [
    "clf.best_params_"
   ]
  },
  {
   "cell_type": "code",
   "execution_count": 31,
   "metadata": {},
   "outputs": [],
   "source": [
    "logistic_test_score = modelScorer(\"Logistic --> Test\", clf, y_test, X_test)\n",
    "logistic_train_score = modelScorer(\"Logistic --> Train\", clf, y_train, X_train)"
   ]
  },
  {
   "cell_type": "code",
   "execution_count": 32,
   "metadata": {},
   "outputs": [
    {
     "name": "stdout",
     "output_type": "stream",
     "text": [
      "\t\tSCORE FOR Logistic --> Test\n",
      "Accuracy:0.88\n",
      "Recall:0.87\n",
      "Precision:0.88\n",
      "\n",
      "Confusion Matrix:\n",
      " [[10990  1510]\n",
      " [ 1598 10902]]\n"
     ]
    }
   ],
   "source": [
    "logistic_test_score.genScoreReport()"
   ]
  },
  {
   "cell_type": "code",
   "execution_count": 33,
   "metadata": {},
   "outputs": [
    {
     "name": "stdout",
     "output_type": "stream",
     "text": [
      "\t\tSCORE FOR Logistic --> Train\n",
      "Accuracy:0.96\n",
      "Recall:0.96\n",
      "Precision:0.96\n",
      "\n",
      "Confusion Matrix:\n",
      " [[11976   524]\n",
      " [  468 12032]]\n"
     ]
    }
   ],
   "source": [
    "logistic_train_score.genScoreReport()"
   ]
  },
  {
   "cell_type": "code",
   "execution_count": 35,
   "metadata": {},
   "outputs": [
    {
     "data": {
      "image/png": "[encoded data removed]",
      "text/plain": [
       "<Figure size 432x288 with 1 Axes>"
      ]
     },
     "metadata": {},
     "output_type": "display_data"
    }
   ],
   "source": [
    "logistic_test_score.plot_roc()"
   ]
  },
  {
   "cell_type": "code",
   "execution_count": null,
   "metadata": {},
   "outputs": [],
   "source": []
  }
 ],
 "metadata": {
  "kernelspec": {
   "display_name": "Python 3",
   "language": "python",
   "name": "python3"
  },
  "language_info": {
   "codemirror_mode": {
    "name": "ipython",
    "version": 3
   },
   "file_extension": ".py",
   "mimetype": "text/x-python",
   "name": "python",
   "nbconvert_exporter": "python",
   "pygments_lexer": "ipython3",
   "version": "3.6.5"
  }
 },
 "nbformat": 4,
 "nbformat_minor": 2
}
